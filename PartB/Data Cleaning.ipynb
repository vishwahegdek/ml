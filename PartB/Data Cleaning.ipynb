{
 "cells": [
  {
   "cell_type": "code",
   "execution_count": null,
   "id": "7be60049",
   "metadata": {},
   "outputs": [],
   "source": [
    "import pandas as pd\n",
    "import numpy as np\n",
    "from sklearn.feature_selection import VarianceThreshold\n",
    "import matplotlib.pyplot as plt\n",
    "df = pd.read_csv('/content/oil-spill_Data_Cleaning.csv')\n",
    "df.drop(df.nunique()[df.nunique() / df.shape[0] * 100 < 1].index, axis=1, inplace=True)\n",
    "df = df.drop_duplicates()\n",
    "df = df.loc[:, df.nunique() > 1]\n",
    "thresholds = np.linspace(0, 0.2, 5)\n",
    "selected_features = [VarianceThreshold(t).fit(df).get_support().sum() for t in\n",
    "thresholds]\n",
    "plt.plot(thresholds, selected_features, marker='o')\n",
    "plt.xlabel('Variance Threshold')\n",
    "plt.ylabel('Number of Features Selected')\n",
    "plt.title('VarianceThreshold Feature Selection')\n",
    "plt.show()"
   ]
  }
 ],
 "metadata": {
  "kernelspec": {
   "display_name": "Python 3 (ipykernel)",
   "language": "python",
   "name": "python3"
  },
  "language_info": {
   "codemirror_mode": {
    "name": "ipython",
    "version": 3
   },
   "file_extension": ".py",
   "mimetype": "text/x-python",
   "name": "python",
   "nbconvert_exporter": "python",
   "pygments_lexer": "ipython3",
   "version": "3.10.9"
  }
 },
 "nbformat": 4,
 "nbformat_minor": 5
}
