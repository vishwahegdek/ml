{
 "cells": [
  {
   "cell_type": "code",
   "execution_count": 3,
   "id": "6adbb25c",
   "metadata": {},
   "outputs": [],
   "source": [
    "import numpy as np\n",
    "import csv\n",
    "import bayespy as bp\n",
    "from colorama import init, Fore, Style\n",
    "init()"
   ]
  },
  {
   "cell_type": "code",
   "execution_count": 4,
   "id": "aeeadf5d",
   "metadata": {},
   "outputs": [],
   "source": [
    "# Define Enum mappings\n",
    "enums = {\n",
    "    'age': {'SuperSeniorCitizen': 0, 'SeniorCitizen': 1, 'MiddleAged': 2, 'Youth': 3, 'Teen': 4},\n",
    "    'gender': {'Male': 0, 'Female': 1},\n",
    "    'familyHistory': {'Yes': 0, 'No': 1},\n",
    "    'diet': {'High': 0, 'Medium': 1, 'Low': 2},\n",
    "    'lifeStyle': {'Athlete': 0, 'Active': 1, 'Moderate': 2, 'Sedentary': 3},\n",
    "    'cholesterol': {'High': 0, 'BorderLine': 1, 'Normal': 2},\n",
    "    'heartDisease': {'Yes': 0, 'No': 1}\n",
    "}\n"
   ]
  },
  {
   "cell_type": "code",
   "execution_count": 7,
   "id": "c555a0b1",
   "metadata": {},
   "outputs": [
    {
     "ename": "KeyError",
     "evalue": "'ï»¿age'",
     "output_type": "error",
     "traceback": [
      "\u001b[1;31m---------------------------------------------------------------------------\u001b[0m",
      "\u001b[1;31mKeyError\u001b[0m                                  Traceback (most recent call last)",
      "Cell \u001b[1;32mIn[7], line 3\u001b[0m\n\u001b[0;32m      1\u001b[0m \u001b[38;5;66;03m# Load and process data\u001b[39;00m\n\u001b[0;32m      2\u001b[0m \u001b[38;5;28;01mwith\u001b[39;00m \u001b[38;5;28mopen\u001b[39m(\u001b[38;5;124m'\u001b[39m\u001b[38;5;124mheart_disease_data.csv\u001b[39m\u001b[38;5;124m'\u001b[39m) \u001b[38;5;28;01mas\u001b[39;00m csvfile:\n\u001b[1;32m----> 3\u001b[0m     data \u001b[38;5;241m=\u001b[39m [\u001b[38;5;28mlist\u001b[39m(\u001b[38;5;28mmap\u001b[39m(\u001b[38;5;28;01mlambda\u001b[39;00m x: enums[k][x], row)) \u001b[38;5;28;01mfor\u001b[39;00m k, row \u001b[38;5;129;01min\u001b[39;00m \u001b[38;5;28mzip\u001b[39m(enums\u001b[38;5;241m.\u001b[39mkeys(),csv\u001b[38;5;241m.\u001b[39mreader(csvfile))]\n\u001b[0;32m      4\u001b[0m data \u001b[38;5;241m=\u001b[39m np\u001b[38;5;241m.\u001b[39marray(data)\n\u001b[0;32m      5\u001b[0m N \u001b[38;5;241m=\u001b[39m \u001b[38;5;28mlen\u001b[39m(data)\n",
      "Cell \u001b[1;32mIn[7], line 3\u001b[0m, in \u001b[0;36m<listcomp>\u001b[1;34m(.0)\u001b[0m\n\u001b[0;32m      1\u001b[0m \u001b[38;5;66;03m# Load and process data\u001b[39;00m\n\u001b[0;32m      2\u001b[0m \u001b[38;5;28;01mwith\u001b[39;00m \u001b[38;5;28mopen\u001b[39m(\u001b[38;5;124m'\u001b[39m\u001b[38;5;124mheart_disease_data.csv\u001b[39m\u001b[38;5;124m'\u001b[39m) \u001b[38;5;28;01mas\u001b[39;00m csvfile:\n\u001b[1;32m----> 3\u001b[0m     data \u001b[38;5;241m=\u001b[39m [\u001b[38;5;28;43mlist\u001b[39;49m\u001b[43m(\u001b[49m\u001b[38;5;28;43mmap\u001b[39;49m\u001b[43m(\u001b[49m\u001b[38;5;28;43;01mlambda\u001b[39;49;00m\u001b[43m \u001b[49m\u001b[43mx\u001b[49m\u001b[43m:\u001b[49m\u001b[43m \u001b[49m\u001b[43menums\u001b[49m\u001b[43m[\u001b[49m\u001b[43mk\u001b[49m\u001b[43m]\u001b[49m\u001b[43m[\u001b[49m\u001b[43mx\u001b[49m\u001b[43m]\u001b[49m\u001b[43m,\u001b[49m\u001b[43m \u001b[49m\u001b[43mrow\u001b[49m\u001b[43m)\u001b[49m\u001b[43m)\u001b[49m \u001b[38;5;28;01mfor\u001b[39;00m k, row \u001b[38;5;129;01min\u001b[39;00m \u001b[38;5;28mzip\u001b[39m(enums\u001b[38;5;241m.\u001b[39mkeys(),csv\u001b[38;5;241m.\u001b[39mreader(csvfile))]\n\u001b[0;32m      4\u001b[0m data \u001b[38;5;241m=\u001b[39m np\u001b[38;5;241m.\u001b[39marray(data)\n\u001b[0;32m      5\u001b[0m N \u001b[38;5;241m=\u001b[39m \u001b[38;5;28mlen\u001b[39m(data)\n",
      "Cell \u001b[1;32mIn[7], line 3\u001b[0m, in \u001b[0;36m<lambda>\u001b[1;34m(x)\u001b[0m\n\u001b[0;32m      1\u001b[0m \u001b[38;5;66;03m# Load and process data\u001b[39;00m\n\u001b[0;32m      2\u001b[0m \u001b[38;5;28;01mwith\u001b[39;00m \u001b[38;5;28mopen\u001b[39m(\u001b[38;5;124m'\u001b[39m\u001b[38;5;124mheart_disease_data.csv\u001b[39m\u001b[38;5;124m'\u001b[39m) \u001b[38;5;28;01mas\u001b[39;00m csvfile:\n\u001b[1;32m----> 3\u001b[0m     data \u001b[38;5;241m=\u001b[39m [\u001b[38;5;28mlist\u001b[39m(\u001b[38;5;28mmap\u001b[39m(\u001b[38;5;28;01mlambda\u001b[39;00m x: \u001b[43menums\u001b[49m\u001b[43m[\u001b[49m\u001b[43mk\u001b[49m\u001b[43m]\u001b[49m\u001b[43m[\u001b[49m\u001b[43mx\u001b[49m\u001b[43m]\u001b[49m, row)) \u001b[38;5;28;01mfor\u001b[39;00m k, row \u001b[38;5;129;01min\u001b[39;00m \u001b[38;5;28mzip\u001b[39m(enums\u001b[38;5;241m.\u001b[39mkeys(),csv\u001b[38;5;241m.\u001b[39mreader(csvfile))]\n\u001b[0;32m      4\u001b[0m data \u001b[38;5;241m=\u001b[39m np\u001b[38;5;241m.\u001b[39marray(data)\n\u001b[0;32m      5\u001b[0m N \u001b[38;5;241m=\u001b[39m \u001b[38;5;28mlen\u001b[39m(data)\n",
      "\u001b[1;31mKeyError\u001b[0m: 'ï»¿age'"
     ]
    }
   ],
   "source": [
    "# Load and process data\n",
    "with open('heart_disease_data.csv') as csvfile:\n",
    "    data = [list(map(lambda x: enums[k][x], row)) for k, row in zip(enums.keys(),csv.reader(csvfile))]\n",
    "data = np.array(data)\n",
    "N = len(data)"
   ]
  },
  {
   "cell_type": "code",
   "execution_count": null,
   "id": "3df42ebc",
   "metadata": {},
   "outputs": [],
   "source": [
    "# Define Bayesian Network\n",
    "def create_categorical_node(enum_key, num_values):\n",
    "    p = bp.nodes.Dirichlet(1.0 * np.ones(num_values))\n",
    "    node = bp.nodes.Categorical(p, plates=(N,))\n",
    "    node.observe(data[:, list(enums.keys()).index(enum_key)])\n",
    "    return node, p\n",
    "nodes = {key: create_categorical_node(key, len(values)) for key, values in enums.items() if key!= 'heartDisease'}"
   ]
  },
  {
   "cell_type": "code",
   "execution_count": null,
   "id": "5459568b",
   "metadata": {},
   "outputs": [],
   "source": [
    "# Define HeartDisease node\n",
    "p_heartdisease = bp.nodes.Dirichlet(np.ones(2), plates=[len(values) for values inenums.values() if len(values) > 1])\n",
    "heartdisease = bp.nodes.MultiMixture(list(nodes.values()), bp.nodes.Categorical,p_heartdisease)\n",
    "heartdisease.observe(data[:, enums['heartDisease']['Yes']])\n",
    "p_heartdisease.update()"
   ]
  },
  {
   "cell_type": "code",
   "execution_count": null,
   "id": "4656bb8f",
   "metadata": {},
   "outputs": [],
   "source": [
    "# Interactive Test\n",
    "while True:\n",
    "    inputs = [int(input(f'Enter {k} ({\", \".join(v.keys())}): ')) for k, v in enums.items() if k != 'heartDisease']\n",
    "    prob = bp.nodes.MultiMixture(inputs, bp.nodes.Categorical, p_heartdisease).get_moments()[0][enums['heartDisease']['Yes']]\n",
    "    print(f\"Probability(HeartDisease) = {prob}\")\n",
    "    if int(input(\"Enter 0 to Continue, 1 to Exit: \")) == 1:\n",
    "        break\n"
   ]
  }
 ],
 "metadata": {
  "kernelspec": {
   "display_name": "Python 3 (ipykernel)",
   "language": "python",
   "name": "python3"
  },
  "language_info": {
   "codemirror_mode": {
    "name": "ipython",
    "version": 3
   },
   "file_extension": ".py",
   "mimetype": "text/x-python",
   "name": "python",
   "nbconvert_exporter": "python",
   "pygments_lexer": "ipython3",
   "version": "3.10.9"
  }
 },
 "nbformat": 4,
 "nbformat_minor": 5
}
