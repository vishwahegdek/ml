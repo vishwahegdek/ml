{
 "cells": [
  {
   "cell_type": "code",
   "execution_count": 3,
   "id": "52d74a2b",
   "metadata": {},
   "outputs": [],
   "source": [
    "import numpy as np\n",
    "import pandas as pd\n",
    "# Load data from a CSV file\n",
    "data = pd.read_csv(r\"candidate.csv\")\n",
    "# Separate concept features from target\n",
    "concepts = np.array(data.iloc[:, :-1])\n",
    "target = np.array(data.iloc[:, -1])"
   ]
  },
  {
   "cell_type": "code",
   "execution_count": 4,
   "id": "ff611b24",
   "metadata": {},
   "outputs": [],
   "source": [
    "def learn(concepts, target):\n",
    "    # Initialize specific_h and general_h\n",
    "    specific_h = concepts[0].copy()\n",
    "    general_h = [['?' for _ in range(len(specific_h))] for _ in range(len(specific_h))]\n",
    "    for i, h in enumerate(concepts):\n",
    "        if target[i] == \"Yes\":\n",
    "            specific_h = [s if s == x else '?' for s, x in zip(specific_h, h)]\n",
    "            general_h = [[g if g == '?' else s for g, s in zip(row, specific_h)] for row in general_h]\n",
    "        elif target[i] == \"No\":\n",
    "            general_h = [[s if s != '?' else '?' for s in row] for row, x in zip(general_h, h)]\n",
    "        print(f\"Step {i + 1} of Candidate Elimination Algorithm\")\n",
    "        print(\"Specific_h:\", specific_h)\n",
    "        print(\"General_h:\", general_h)\n",
    "    # Remove empty rows in general_h\n",
    "    general_h = [row for row in general_h if any(v != '?' for v in row)]\n",
    "    return specific_h, general_h"
   ]
  },
  {
   "cell_type": "code",
   "execution_count": 5,
   "id": "322d4d31",
   "metadata": {},
   "outputs": [
    {
     "name": "stdout",
     "output_type": "stream",
     "text": [
      "Step 1 of Candidate Elimination Algorithm\n",
      "Specific_h: ['Sunny', 'Warm', 'Normal', 'Strong', 'Warm']\n",
      "General_h: [['?', '?', '?', '?', '?'], ['?', '?', '?', '?', '?'], ['?', '?', '?', '?', '?'], ['?', '?', '?', '?', '?'], ['?', '?', '?', '?', '?']]\n",
      "Step 2 of Candidate Elimination Algorithm\n",
      "Specific_h: ['Sunny', 'Warm', '?', 'Strong', 'Warm']\n",
      "General_h: [['?', '?', '?', '?', '?'], ['?', '?', '?', '?', '?'], ['?', '?', '?', '?', '?'], ['?', '?', '?', '?', '?'], ['?', '?', '?', '?', '?']]\n",
      "Step 3 of Candidate Elimination Algorithm\n",
      "Specific_h: ['Sunny', 'Warm', '?', 'Strong', 'Warm']\n",
      "General_h: [['?', '?', '?', '?', '?'], ['?', '?', '?', '?', '?'], ['?', '?', '?', '?', '?'], ['?', '?', '?', '?', '?'], ['?', '?', '?', '?', '?']]\n",
      "Step 4 of Candidate Elimination Algorithm\n",
      "Specific_h: ['Sunny', 'Warm', '?', 'Strong', '?']\n",
      "General_h: [['?', '?', '?', '?', '?'], ['?', '?', '?', '?', '?'], ['?', '?', '?', '?', '?'], ['?', '?', '?', '?', '?'], ['?', '?', '?', '?', '?']]\n",
      "Final Specific_h:\n",
      "['Sunny', 'Warm', '?', 'Strong', '?']\n",
      "Final General_h:\n",
      "[]\n"
     ]
    }
   ],
   "source": [
    "s_final, g_final = learn(concepts, target)\n",
    "print(\"Final Specific_h:\", s_final, sep=\"\\n\")\n",
    "print(\"Final General_h:\", g_final, sep=\"\\n\")"
   ]
  },
  {
   "cell_type": "code",
   "execution_count": null,
   "id": "c9226958",
   "metadata": {},
   "outputs": [],
   "source": []
  }
 ],
 "metadata": {
  "kernelspec": {
   "display_name": "Python 3 (ipykernel)",
   "language": "python",
   "name": "python3"
  },
  "language_info": {
   "codemirror_mode": {
    "name": "ipython",
    "version": 3
   },
   "file_extension": ".py",
   "mimetype": "text/x-python",
   "name": "python",
   "nbconvert_exporter": "python",
   "pygments_lexer": "ipython3",
   "version": "3.10.9"
  }
 },
 "nbformat": 4,
 "nbformat_minor": 5
}
