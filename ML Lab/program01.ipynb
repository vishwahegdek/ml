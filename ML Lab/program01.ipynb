{
 "cells": [
  {
   "cell_type": "code",
   "execution_count": 3,
   "id": "85ac4922",
   "metadata": {},
   "outputs": [
    {
     "name": "stdout",
     "output_type": "stream",
     "text": [
      "\n",
      "The positive examples are:\n",
      "['sunny', 'warm', 'normal', 'strong', 'warm', 'same', 'yes']\n",
      "['sunny', 'warm', 'high', 'strong', 'warm', 'same', 'yes']\n",
      "['sunny', 'warm', 'high', 'strong', 'cool', 'change', 'yes']\n",
      "\n",
      "\n",
      "\n",
      "The maximally specific Find-s hypothesis for the given training examples is:\n",
      "['sunny', 'warm', '?', 'strong', '?', '?']\n"
     ]
    }
   ],
   "source": [
    "import csv\n",
    "\n",
    "# Read the CSV file and filter positive examples\n",
    "with open(r\"enjoysport.csv\") as csv_file:\n",
    "    readcsv = csv.reader(csv_file, delimiter=',')\n",
    "    data = [row for row in readcsv if row[-1].upper() == \"YES\"]\n",
    "\n",
    "# Display positive examples\n",
    "print(\"\\nThe positive examples are:\")\n",
    "for x in data:\n",
    "    print(x)\n",
    "print(\"\\n\")\n",
    "\n",
    "# Initialize the hypothesis with the first positive example\n",
    "hypo = data[0][:-1]\n",
    "\n",
    "# Apply Find-S algorithm\n",
    "for i in range(1, len(data)):\n",
    "    for j in range(len(hypo)):\n",
    "        if hypo[j] != data[i][j]:\n",
    "            hypo[j] = '?'\n",
    "\n",
    "# Display the final hypothesis\n",
    "print(\"\\nThe maximally specific Find-s hypothesis for the given training examples is:\")\n",
    "print(hypo)\n"
   ]
  },
  {
   "cell_type": "code",
   "execution_count": null,
   "id": "e6f7cecc",
   "metadata": {},
   "outputs": [],
   "source": []
  }
 ],
 "metadata": {
  "kernelspec": {
   "display_name": "Python 3 (ipykernel)",
   "language": "python",
   "name": "python3"
  },
  "language_info": {
   "codemirror_mode": {
    "name": "ipython",
    "version": 3
   },
   "file_extension": ".py",
   "mimetype": "text/x-python",
   "name": "python",
   "nbconvert_exporter": "python",
   "pygments_lexer": "ipython3",
   "version": "3.10.9"
  }
 },
 "nbformat": 4,
 "nbformat_minor": 5
}
