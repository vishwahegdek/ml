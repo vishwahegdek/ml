{
 "cells": [
  {
   "cell_type": "code",
   "execution_count": 3,
   "id": "c4da7889",
   "metadata": {},
   "outputs": [
    {
     "name": "stdout",
     "output_type": "stream",
     "text": [
      "Predictions:\n",
      "[[0.04231659]\n",
      " [0.95739763]\n",
      " [0.95739575]\n",
      " [0.04626093]]\n"
     ]
    }
   ],
   "source": [
    "import numpy as np\n",
    "class NeuralNetwork:\n",
    "    def __init__(self, input_size, hidden_size, output_size, learning_rate):\n",
    "        self.learning_rate = learning_rate\n",
    "        self.weights_input_hidden = np.random.randn(input_size, hidden_size)\n",
    "        self.bias_input_hidden = np.random.randn(1, hidden_size)\n",
    "        self.weights_hidden_output = np.random.randn(hidden_size, output_size)\n",
    "        self.bias_hidden_output = np.random.randn(1, output_size)\n",
    "    def sigmoid(self, x):\n",
    "        return 1 / (1 + np.exp(-x))\n",
    "    def sigmoid_derivative(self, x):\n",
    "        return x * (1 - x)\n",
    "    def forward(self, inputs):\n",
    "        self.hidden_output = self.sigmoid(np.dot(inputs, self.weights_input_hidden) + self.bias_input_hidden)\n",
    "        self.output = self.sigmoid(np.dot(self.hidden_output, self.weights_hidden_output) + self.bias_hidden_output)\n",
    "    def backward(self, inputs, targets):\n",
    "        output_error = targets - self.output\n",
    "        output_delta = output_error * self.sigmoid_derivative(self.output)\n",
    "        hidden_error = output_delta.dot(self.weights_hidden_output.T)\n",
    "        hidden_delta = hidden_error * self.sigmoid_derivative(self.hidden_output)\n",
    "        # Update weights and biases\n",
    "        self.weights_hidden_output += self.hidden_output.T.dot(output_delta) * self.learning_rate\n",
    "        self.bias_hidden_output += np.sum(output_delta, axis=0, keepdims=True) * self.learning_rate\n",
    "        self.weights_input_hidden += inputs.T.dot(hidden_delta) * self.learning_rate\n",
    "        self.bias_input_hidden += np.sum(hidden_delta, axis=0, keepdims=True) * self.learning_rate\n",
    "    def train(self, inputs, targets, epochs):\n",
    "        for _ in range(epochs):\n",
    "            self.forward(inputs)\n",
    "            self.backward(inputs, targets)\n",
    "    def predict(self, inputs):\n",
    "        self.forward(inputs)\n",
    "        return self.output\n",
    "# Example usage\n",
    "inputs = np.array([[0, 0], [0, 1], [1, 0], [1, 1]])\n",
    "targets = np.array([[0], [1], [1], [0]])\n",
    "nn = NeuralNetwork(input_size=2, hidden_size=3, output_size=1, learning_rate=0.1)\n",
    "nn.train(inputs, targets, epochs=10000)\n",
    "print(\"Predictions:\")\n",
    "print(nn.predict(inputs))"
   ]
  },
  {
   "cell_type": "code",
   "execution_count": null,
   "id": "53610f01",
   "metadata": {},
   "outputs": [],
   "source": []
  }
 ],
 "metadata": {
  "kernelspec": {
   "display_name": "Python 3 (ipykernel)",
   "language": "python",
   "name": "python3"
  },
  "language_info": {
   "codemirror_mode": {
    "name": "ipython",
    "version": 3
   },
   "file_extension": ".py",
   "mimetype": "text/x-python",
   "name": "python",
   "nbconvert_exporter": "python",
   "pygments_lexer": "ipython3",
   "version": "3.10.9"
  }
 },
 "nbformat": 4,
 "nbformat_minor": 5
}
