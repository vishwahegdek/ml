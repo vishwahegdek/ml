{
 "cells": [
  {
   "cell_type": "code",
   "execution_count": 1,
   "id": "ff5f90cf",
   "metadata": {},
   "outputs": [
    {
     "name": "stdout",
     "output_type": "stream",
     "text": [
      "Accuracy: 1.00\n"
     ]
    }
   ],
   "source": [
    "import numpy as np\n",
    "import pandas as pd\n",
    "from sklearn.datasets import load_iris\n",
    "from sklearn.model_selection import train_test_split\n",
    "from sklearn.neighbors import KNeighborsClassifier\n",
    "from sklearn.metrics import accuracy_score, confusion_matrix\n",
    "# Load the Iris dataset\n",
    "iris = load_iris()\n",
    "X, y = iris.data, iris.target\n",
    "# Split the dataset\n",
    "X_train, X_test, y_train, y_test = train_test_split(X, y, test_size=0.3, random_state=42)\n",
    "# Initialize and train the KNN classifier\n",
    "k = 3\n",
    "knn = KNeighborsClassifier(n_neighbors=k).fit(X_train, y_train)\n",
    "# Make predictions\n",
    "predictions = knn.predict(X_test)\n",
    "# Calculate accuracy and confusion matrix\n",
    "accuracy = accuracy_score(y_test, predictions)\n",
    "conf_matrix = confusion_matrix(y_test, predictions)\n",
    "print(f\"Accuracy: {accuracy:.2f}\")"
   ]
  },
  {
   "cell_type": "code",
   "execution_count": 2,
   "id": "caa7ecc0",
   "metadata": {},
   "outputs": [
    {
     "name": "stdout",
     "output_type": "stream",
     "text": [
      "Input: [6.1 2.8 4.7 1.2], Actual: versicolor, Predicted: versicolor(Correct)\n",
      "Input: [5.7 3.8 1.7 0.3], Actual: setosa, Predicted: setosa(Correct)\n",
      "Input: [7.7 2.6 6.9 2.3], Actual: virginica, Predicted: virginica(Correct)\n",
      "Input: [6.  2.9 4.5 1.5], Actual: versicolor, Predicted: versicolor(Correct)\n",
      "Input: [6.8 2.8 4.8 1.4], Actual: versicolor, Predicted: versicolor(Correct)\n",
      "Input: [5.4 3.4 1.5 0.4], Actual: setosa, Predicted: setosa(Correct)\n",
      "Input: [5.6 2.9 3.6 1.3], Actual: versicolor, Predicted: versicolor(Correct)\n",
      "Input: [6.9 3.1 5.1 2.3], Actual: virginica, Predicted: virginica(Correct)\n",
      "Input: [6.2 2.2 4.5 1.5], Actual: versicolor, Predicted: versicolor(Correct)\n",
      "Input: [5.8 2.7 3.9 1.2], Actual: versicolor, Predicted: versicolor(Correct)\n",
      "Input: [6.5 3.2 5.1 2. ], Actual: virginica, Predicted: virginica(Correct)\n",
      "Input: [4.8 3.  1.4 0.1], Actual: setosa, Predicted: setosa(Correct)\n",
      "Input: [5.5 3.5 1.3 0.2], Actual: setosa, Predicted: setosa(Correct)\n",
      "Input: [4.9 3.1 1.5 0.1], Actual: setosa, Predicted: setosa(Correct)\n",
      "Input: [5.1 3.8 1.5 0.3], Actual: setosa, Predicted: setosa(Correct)\n",
      "Input: [6.3 3.3 4.7 1.6], Actual: versicolor, Predicted: versicolor(Correct)\n",
      "Input: [6.5 3.  5.8 2.2], Actual: virginica, Predicted: virginica(Correct)\n",
      "Input: [5.6 2.5 3.9 1.1], Actual: versicolor, Predicted: versicolor(Correct)\n",
      "Input: [5.7 2.8 4.5 1.3], Actual: versicolor, Predicted: versicolor(Correct)\n",
      "Input: [6.4 2.8 5.6 2.2], Actual: virginica, Predicted: virginica(Correct)\n",
      "Input: [4.7 3.2 1.6 0.2], Actual: setosa, Predicted: setosa(Correct)\n",
      "Input: [6.1 3.  4.9 1.8], Actual: virginica, Predicted: virginica(Correct)\n",
      "Input: [5.  3.4 1.6 0.4], Actual: setosa, Predicted: setosa(Correct)\n",
      "Input: [6.4 2.8 5.6 2.1], Actual: virginica, Predicted: virginica(Correct)\n",
      "Input: [7.9 3.8 6.4 2. ], Actual: virginica, Predicted: virginica(Correct)\n",
      "Input: [6.7 3.  5.2 2.3], Actual: virginica, Predicted: virginica(Correct)\n",
      "Input: [6.7 2.5 5.8 1.8], Actual: virginica, Predicted: virginica(Correct)\n",
      "Input: [6.8 3.2 5.9 2.3], Actual: virginica, Predicted: virginica(Correct)\n",
      "Input: [4.8 3.  1.4 0.3], Actual: setosa, Predicted: setosa(Correct)\n",
      "Input: [4.8 3.1 1.6 0.2], Actual: setosa, Predicted: setosa(Correct)\n",
      "Input: [4.6 3.6 1.  0.2], Actual: setosa, Predicted: setosa(Correct)\n",
      "Input: [5.7 4.4 1.5 0.4], Actual: setosa, Predicted: setosa(Correct)\n",
      "Input: [6.7 3.1 4.4 1.4], Actual: versicolor, Predicted: versicolor(Correct)\n",
      "Input: [4.8 3.4 1.6 0.2], Actual: setosa, Predicted: setosa(Correct)\n",
      "Input: [4.4 3.2 1.3 0.2], Actual: setosa, Predicted: setosa(Correct)\n",
      "Input: [6.3 2.5 5.  1.9], Actual: virginica, Predicted: virginica(Correct)\n",
      "Input: [6.4 3.2 4.5 1.5], Actual: versicolor, Predicted: versicolor(Correct)\n",
      "Input: [5.2 3.5 1.5 0.2], Actual: setosa, Predicted: setosa(Correct)\n",
      "Input: [5.  3.6 1.4 0.2], Actual: setosa, Predicted: setosa(Correct)\n",
      "Input: [5.2 4.1 1.5 0.1], Actual: setosa, Predicted: setosa(Correct)\n",
      "Input: [5.8 2.7 5.1 1.9], Actual: virginica, Predicted: virginica(Correct)\n",
      "Input: [6.  3.4 4.5 1.6], Actual: versicolor, Predicted: versicolor(Correct)\n",
      "Input: [6.7 3.1 4.7 1.5], Actual: versicolor, Predicted: versicolor(Correct)\n",
      "Input: [5.4 3.9 1.3 0.4], Actual: setosa, Predicted: setosa(Correct)\n",
      "Input: [5.4 3.7 1.5 0.2], Actual: setosa, Predicted: setosa(Correct)\n",
      "\n",
      "Confusion Matrix:\n",
      " [[19  0  0]\n",
      " [ 0 13  0]\n",
      " [ 0  0 13]]\n"
     ]
    }
   ],
   "source": [
    "# Print predictions\n",
    "for i, (true, pred) in enumerate(zip(y_test, predictions)):\n",
    "    result = \"Correct\" if true == pred else \"Wrong\"\n",
    "    print(f\"Input: {X_test[i]}, Actual: {iris.target_names[true]}, Predicted: {iris.target_names[pred]}({result})\")\n",
    "\n",
    "    # Print confusion matrix\n",
    "print(\"\\nConfusion Matrix:\\n\", conf_matrix)"
   ]
  },
  {
   "cell_type": "code",
   "execution_count": null,
   "id": "fa8c1a38",
   "metadata": {},
   "outputs": [],
   "source": []
  }
 ],
 "metadata": {
  "kernelspec": {
   "display_name": "Python 3 (ipykernel)",
   "language": "python",
   "name": "python3"
  },
  "language_info": {
   "codemirror_mode": {
    "name": "ipython",
    "version": 3
   },
   "file_extension": ".py",
   "mimetype": "text/x-python",
   "name": "python",
   "nbconvert_exporter": "python",
   "pygments_lexer": "ipython3",
   "version": "3.10.9"
  }
 },
 "nbformat": 4,
 "nbformat_minor": 5
}
