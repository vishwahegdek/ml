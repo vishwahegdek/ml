{
 "cells": [
  {
   "cell_type": "code",
   "execution_count": 6,
   "id": "9958a892",
   "metadata": {},
   "outputs": [],
   "source": [
    "from sklearn.datasets import fetch_20newsgroups\n",
    "from sklearn.feature_extraction.text import CountVectorizer\n",
    "from sklearn.naive_bayes import MultinomialNB\n",
    "from sklearn.metrics import accuracy_score, precision_score, recall_score"
   ]
  },
  {
   "cell_type": "code",
   "execution_count": null,
   "id": "28b18eed",
   "metadata": {},
   "outputs": [],
   "source": [
    "# Load dataset and vectorize\n",
    "newsgroups_train = fetch_20newsgroups(subset='train')\n",
    "newsgroups_test = fetch_20newsgroups(subset='test')\n",
    "vectorizer = CountVectorizer()"
   ]
  },
  {
   "cell_type": "code",
   "execution_count": null,
   "id": "cec6782b",
   "metadata": {},
   "outputs": [],
   "source": [
    "X_train = vectorizer.fit_transform(newsgroups_train.data)\n",
    "X_test = vectorizer.transform(newsgroups_test.data)\n",
    "y_train, y_test = newsgroups_train.target, newsgroups_test.target"
   ]
  },
  {
   "cell_type": "code",
   "execution_count": null,
   "id": "7078d214",
   "metadata": {},
   "outputs": [],
   "source": [
    "# Train model and make predictions\n",
    "nb_classifier = MultinomialNB().fit(X_train, y_train)\n",
    "y_pred = nb_classifier.predict(X_test)\n",
    "# Calculate and print metrics\n",
    "print(\"Accuracy:\", accuracy_score(y_test, y_pred))\n",
    "print(\"Precision:\", precision_score(y_test, y_pred, average='weighted'))\n",
    "print(\"Recall:\", recall_score(y_test, y_pred, average='weighted'))"
   ]
  }
 ],
 "metadata": {
  "kernelspec": {
   "display_name": "Python 3 (ipykernel)",
   "language": "python",
   "name": "python3"
  },
  "language_info": {
   "codemirror_mode": {
    "name": "ipython",
    "version": 3
   },
   "file_extension": ".py",
   "mimetype": "text/x-python",
   "name": "python",
   "nbconvert_exporter": "python",
   "pygments_lexer": "ipython3",
   "version": "3.10.9"
  }
 },
 "nbformat": 4,
 "nbformat_minor": 5
}
